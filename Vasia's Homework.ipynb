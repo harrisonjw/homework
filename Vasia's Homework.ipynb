{
 "cells": [
  {
   "cell_type": "code",
   "execution_count": 8,
   "id": "7dd37999",
   "metadata": {},
   "outputs": [],
   "source": [
    "def length_foo(string):\n",
    "    \n",
    "    num = str(len(string))\n",
    "    \n",
    "    return string.replace('foo',num)"
   ]
  },
  {
   "cell_type": "code",
   "execution_count": 9,
   "id": "02d36d0d",
   "metadata": {},
   "outputs": [
    {
     "data": {
      "text/plain": [
       "'kskdks13kskd'"
      ]
     },
     "execution_count": 9,
     "metadata": {},
     "output_type": "execute_result"
    }
   ],
   "source": [
    "length_foo('kskdksfookskd')"
   ]
  },
  {
   "cell_type": "code",
   "execution_count": 47,
   "id": "876ef15d",
   "metadata": {},
   "outputs": [],
   "source": [
    "def authenticate_email(email):\n",
    "    \n",
    "    valid = True\n",
    "     \n",
    "    pieces = email.split('@')\n",
    "    \n",
    "    username = pieces[0]\n",
    "    \n",
    "    if len(username) > 15:\n",
    "        valid = False\n",
    "        \n",
    "    spaceless = username.replace('_','')\n",
    "    \n",
    "    if spaceless.isalnum() == False:\n",
    "        valid = False\n",
    "        \n",
    "    domain = pieces[1].split('.')\n",
    "    \n",
    "    if len(domain[0]) > 10:\n",
    "        valid = False\n",
    "    \n",
    "    if len(domain[1]) > 4:\n",
    "        valid = False\n",
    "        \n",
    "    return valid\n",
    "    "
   ]
  },
  {
   "cell_type": "code",
   "execution_count": 49,
   "id": "7b06a141",
   "metadata": {},
   "outputs": [
    {
     "data": {
      "text/plain": [
       "True"
      ]
     },
     "execution_count": 49,
     "metadata": {},
     "output_type": "execute_result"
    }
   ],
   "source": [
    "authenticate_email('harrisonjwatter@gmail.com')"
   ]
  },
  {
   "cell_type": "code",
   "execution_count": 26,
   "id": "c5e561d2",
   "metadata": {},
   "outputs": [
    {
     "data": {
      "text/plain": [
       "True"
      ]
     },
     "execution_count": 26,
     "metadata": {},
     "output_type": "execute_result"
    }
   ],
   "source": [
    "string = 'h'\n",
    "\n",
    "string.isalnum()"
   ]
  },
  {
   "cell_type": "code",
   "execution_count": 88,
   "id": "f411ac3a",
   "metadata": {},
   "outputs": [],
   "source": [
    "def decimal_check(username):\n",
    "    \n",
    "    valid = True\n",
    "    \n",
    "    if username.count('.') > 3:\n",
    "        valid = False\n",
    "        \n",
    "    index = 0\n",
    "    prev = -1\n",
    "    \n",
    "    for letter in username:\n",
    "        if username[index] == '.' and username[prev] == '.':\n",
    "            valid = False\n",
    "        index += 1\n",
    "        prev += 1\n",
    "        \n",
    "      \n",
    "    return valid"
   ]
  },
  {
   "cell_type": "code",
   "execution_count": 89,
   "id": "2bfe931a",
   "metadata": {},
   "outputs": [
    {
     "data": {
      "text/plain": [
       "True"
      ]
     },
     "execution_count": 89,
     "metadata": {},
     "output_type": "execute_result"
    }
   ],
   "source": [
    "decimal_check('harrison.r.s')"
   ]
  },
  {
   "cell_type": "code",
   "execution_count": 104,
   "id": "6f8ade71",
   "metadata": {},
   "outputs": [],
   "source": [
    "def authenticate_email2(email):\n",
    "    \n",
    "    valid = True\n",
    "     \n",
    "    pieces = email.split('@')\n",
    "    \n",
    "    username = pieces[0]\n",
    "    \n",
    "    if decimal_check(username) == False:\n",
    "        valid = False\n",
    "    \n",
    "    decless = username.replace('.','')\n",
    "    \n",
    "    if len(decless) > 15:\n",
    "        valid = False   \n",
    "    \n",
    "    spaceless = decless.replace('_','')\n",
    "    \n",
    "    if spaceless.isalnum() == False:\n",
    "        valid = False\n",
    "        \n",
    "    domain = pieces[1].split('.')\n",
    "    \n",
    "    if len(domain[0]) > 10:\n",
    "        valid = False\n",
    "    \n",
    "    if len(domain[1]) > 4:\n",
    "        valid = False\n",
    "        \n",
    "    return valid"
   ]
  },
  {
   "cell_type": "code",
   "execution_count": 108,
   "id": "3c23e96c",
   "metadata": {},
   "outputs": [
    {
     "data": {
      "text/plain": [
       "True"
      ]
     },
     "execution_count": 108,
     "metadata": {},
     "output_type": "execute_result"
    }
   ],
   "source": [
    "email = 'har.ris.onss.sssss@gmail.com'\n",
    "\n",
    "authenticate_email2(email)\n"
   ]
  },
  {
   "cell_type": "code",
   "execution_count": null,
   "id": "8b765b14",
   "metadata": {},
   "outputs": [],
   "source": [
    "mylist = []\n",
    "x = 2\n",
    "while x == 2:\n",
    "    mylist.append(0)\n",
    "    mylist.append(1)\n",
    "    \n",
    "print(mylist)"
   ]
  },
  {
   "cell_type": "code",
   "execution_count": null,
   "id": "63cdc220",
   "metadata": {},
   "outputs": [],
   "source": []
  }
 ],
 "metadata": {
  "kernelspec": {
   "display_name": "Python 3 (ipykernel)",
   "language": "python",
   "name": "python3"
  },
  "language_info": {
   "codemirror_mode": {
    "name": "ipython",
    "version": 3
   },
   "file_extension": ".py",
   "mimetype": "text/x-python",
   "name": "python",
   "nbconvert_exporter": "python",
   "pygments_lexer": "ipython3",
   "version": "3.9.7"
  }
 },
 "nbformat": 4,
 "nbformat_minor": 5
}
