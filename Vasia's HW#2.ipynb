{
 "cells": [
  {
   "cell_type": "code",
   "execution_count": 1,
   "id": "f36979f4",
   "metadata": {},
   "outputs": [
    {
     "ename": "IndentationError",
     "evalue": "expected an indented block (Temp/ipykernel_18224/3901828135.py, line 2)",
     "output_type": "error",
     "traceback": [
      "\u001b[1;36m  File \u001b[1;32m\"C:\\Users\\harri\\AppData\\Local\\Temp/ipykernel_18224/3901828135.py\"\u001b[1;36m, line \u001b[1;32m2\u001b[0m\n\u001b[1;33m    \u001b[0m\n\u001b[1;37m    ^\u001b[0m\n\u001b[1;31mIndentationError\u001b[0m\u001b[1;31m:\u001b[0m expected an indented block\n"
     ]
    }
   ],
   "source": []
  },
  {
   "cell_type": "markdown",
   "id": "2063aeac",
   "metadata": {},
   "source": [
    "Problem 2"
   ]
  },
  {
   "cell_type": "code",
   "execution_count": 21,
   "id": "190bae66",
   "metadata": {},
   "outputs": [],
   "source": [
    "def sumArray(nums):\n",
    "    \n",
    "    total = 0\n",
    "    \n",
    "    for num in nums:\n",
    "        total += num\n",
    "        \n",
    "    return total"
   ]
  },
  {
   "cell_type": "code",
   "execution_count": 27,
   "id": "0482b731",
   "metadata": {},
   "outputs": [],
   "source": [
    "mylist = (2,4,6,4,2)"
   ]
  },
  {
   "cell_type": "code",
   "execution_count": 23,
   "id": "e17bb851",
   "metadata": {},
   "outputs": [
    {
     "data": {
      "text/plain": [
       "34"
      ]
     },
     "execution_count": 23,
     "metadata": {},
     "output_type": "execute_result"
    }
   ],
   "source": [
    "sumArray(mylist)"
   ]
  },
  {
   "cell_type": "markdown",
   "id": "69b96a75",
   "metadata": {},
   "source": [
    "Problem 3"
   ]
  },
  {
   "cell_type": "code",
   "execution_count": 24,
   "id": "80b0a0e0",
   "metadata": {},
   "outputs": [],
   "source": [
    "def avgArray(nums):\n",
    "    \n",
    "    total = 0\n",
    "    denom = 0\n",
    "    \n",
    "    for num in nums:\n",
    "        total += num\n",
    "        denom += 1\n",
    "    \n",
    "    return (total/denom)"
   ]
  },
  {
   "cell_type": "code",
   "execution_count": 28,
   "id": "dcf3e75d",
   "metadata": {},
   "outputs": [
    {
     "data": {
      "text/plain": [
       "3.6"
      ]
     },
     "execution_count": 28,
     "metadata": {},
     "output_type": "execute_result"
    }
   ],
   "source": [
    "avgArray(mylist)"
   ]
  },
  {
   "cell_type": "markdown",
   "id": "89fe4dfa",
   "metadata": {},
   "source": [
    "Problem 4"
   ]
  },
  {
   "cell_type": "code",
   "execution_count": 47,
   "id": "0a500fc9",
   "metadata": {},
   "outputs": [],
   "source": [
    "def medianArray(nums):\n",
    "    \n",
    "    ordered = nums.sort()\n",
    "    \n",
    "    items = 0\n",
    "    \n",
    "    for num in nums:\n",
    "        items += 1\n",
    "    \n",
    "    if items%2 == 0:\n",
    "        \n",
    "        first = int((items/2)-0.5)\n",
    "        second = int((items/2)+0.5)\n",
    "        \n",
    "        median = (nums[first]+nums[second])/2\n",
    "        \n",
    "    else:\n",
    "        median = nums[int(items/2)]\n",
    "    \n",
    "    return median\n",
    "    "
   ]
  },
  {
   "cell_type": "code",
   "execution_count": 50,
   "id": "1d50469a",
   "metadata": {},
   "outputs": [],
   "source": [
    "mylist = [2,4,7,9,11,12]"
   ]
  },
  {
   "cell_type": "code",
   "execution_count": 51,
   "id": "10bfd722",
   "metadata": {},
   "outputs": [
    {
     "data": {
      "text/plain": [
       "8.0"
      ]
     },
     "execution_count": 51,
     "metadata": {},
     "output_type": "execute_result"
    }
   ],
   "source": [
    "medianArray(mylist)"
   ]
  },
  {
   "cell_type": "markdown",
   "id": "325601c3",
   "metadata": {},
   "source": [
    "Problem 5"
   ]
  },
  {
   "cell_type": "code",
   "execution_count": 60,
   "id": "2e64d779",
   "metadata": {},
   "outputs": [],
   "source": [
    "def printStars(N):\n",
    "    \n",
    "    lines = 0\n",
    "    \n",
    "    while N>0:\n",
    "        lines += 1\n",
    "        print(\"*\"*lines)\n",
    "        N -= 1"
   ]
  },
  {
   "cell_type": "code",
   "execution_count": 61,
   "id": "23423f75",
   "metadata": {},
   "outputs": [
    {
     "name": "stdout",
     "output_type": "stream",
     "text": [
      "*\n",
      "**\n",
      "***\n",
      "****\n"
     ]
    }
   ],
   "source": [
    "printStars(4)"
   ]
  },
  {
   "cell_type": "markdown",
   "id": "ec75b931",
   "metadata": {},
   "source": [
    "Problem 6"
   ]
  },
  {
   "cell_type": "code",
   "execution_count": 76,
   "id": "4bae9881",
   "metadata": {},
   "outputs": [],
   "source": [
    "def printPyramid(N):\n",
    "    \n",
    "    lines = 0\n",
    "    spaces = N-1\n",
    "    \n",
    "    while spaces>-1:\n",
    "        \n",
    "        print((\" \"*spaces) + (\"*\"*lines) + \"*\" + (\" \"*spaces))\n",
    "        lines += 2\n",
    "        spaces -= 1"
   ]
  },
  {
   "cell_type": "code",
   "execution_count": 78,
   "id": "106e3a61",
   "metadata": {},
   "outputs": [
    {
     "name": "stdout",
     "output_type": "stream",
     "text": [
      "         *         \n",
      "        ***        \n",
      "       *****       \n",
      "      *******      \n",
      "     *********     \n",
      "    ***********    \n",
      "   *************   \n",
      "  ***************  \n",
      " ***************** \n",
      "*******************\n"
     ]
    }
   ],
   "source": [
    "printPyramid(10)"
   ]
  },
  {
   "cell_type": "markdown",
   "id": "3c106a79",
   "metadata": {},
   "source": [
    "Problem 7"
   ]
  },
  {
   "cell_type": "code",
   "execution_count": 80,
   "id": "818085d6",
   "metadata": {},
   "outputs": [],
   "source": [
    "def isPrime(N):\n",
    "    \n",
    "    denom = N-1\n",
    "    prime = True\n",
    "    \n",
    "    while denom>2:\n",
    "        \n",
    "        if N%denom == 0:\n",
    "            prime = False\n",
    "        \n",
    "        denom -= 1\n",
    "        \n",
    "    return prime"
   ]
  },
  {
   "cell_type": "code",
   "execution_count": 83,
   "id": "83750f52",
   "metadata": {},
   "outputs": [
    {
     "data": {
      "text/plain": [
       "True"
      ]
     },
     "execution_count": 83,
     "metadata": {},
     "output_type": "execute_result"
    }
   ],
   "source": [
    "isPrime(19)"
   ]
  },
  {
   "cell_type": "code",
   "execution_count": null,
   "id": "8a5baf55",
   "metadata": {},
   "outputs": [],
   "source": []
  }
 ],
 "metadata": {
  "kernelspec": {
   "display_name": "Python 3 (ipykernel)",
   "language": "python",
   "name": "python3"
  },
  "language_info": {
   "codemirror_mode": {
    "name": "ipython",
    "version": 3
   },
   "file_extension": ".py",
   "mimetype": "text/x-python",
   "name": "python",
   "nbconvert_exporter": "python",
   "pygments_lexer": "ipython3",
   "version": "3.9.7"
  }
 },
 "nbformat": 4,
 "nbformat_minor": 5
}
